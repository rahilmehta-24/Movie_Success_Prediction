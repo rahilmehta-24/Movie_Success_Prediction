{
  "cells": [
    {
      "cell_type": "markdown",
      "metadata": {},
      "source": [
        "## Importing the libraries"
      ]
    },
    {
      "cell_type": "code",
      "execution_count": 1,
      "metadata": {
        "id": "lKG4pSTc_ZAW"
      },
      "outputs": [],
      "source": [
        "import numpy as np\n",
        "import matplotlib.pyplot as plt\n",
        "import pandas as pd\n",
        "from sklearn.naive_bayes import GaussianNB"
      ]
    },
    {
      "cell_type": "markdown",
      "metadata": {},
      "source": [
        "## Importing the dataset"
      ]
    },
    {
      "cell_type": "code",
      "execution_count": null,
      "metadata": {},
      "outputs": [],
      "source": []
    },
    {
      "cell_type": "code",
      "execution_count": 2,
      "metadata": {
        "colab": {
          "base_uri": "https://localhost:8080/",
          "height": 696
        },
        "id": "2dO3f2kr_wT2",
        "outputId": "5afab9bd-79a5-48d5-8b89-530dddeb5669"
      },
      "outputs": [
        {
          "data": {
            "text/html": [
              "<div>\n",
              "<style scoped>\n",
              "    .dataframe tbody tr th:only-of-type {\n",
              "        vertical-align: middle;\n",
              "    }\n",
              "\n",
              "    .dataframe tbody tr th {\n",
              "        vertical-align: top;\n",
              "    }\n",
              "\n",
              "    .dataframe thead th {\n",
              "        text-align: right;\n",
              "    }\n",
              "</style>\n",
              "<table border=\"1\" class=\"dataframe\">\n",
              "  <thead>\n",
              "    <tr style=\"text-align: right;\">\n",
              "      <th></th>\n",
              "      <th>Sn</th>\n",
              "      <th>movie_title</th>\n",
              "      <th>director_name</th>\n",
              "      <th>actor_1_name</th>\n",
              "      <th>actor_2_name</th>\n",
              "      <th>actor_3_name</th>\n",
              "      <th>genres</th>\n",
              "      <th>imdb_score</th>\n",
              "      <th>budget</th>\n",
              "      <th>gross</th>\n",
              "      <th>profit_percent</th>\n",
              "      <th>Hit/Flop</th>\n",
              "    </tr>\n",
              "  </thead>\n",
              "  <tbody>\n",
              "    <tr>\n",
              "      <th>0</th>\n",
              "      <td>1</td>\n",
              "      <td>Avatar</td>\n",
              "      <td>James Cameron</td>\n",
              "      <td>CCH Pounder</td>\n",
              "      <td>Joel David Moore</td>\n",
              "      <td>Wes Studi</td>\n",
              "      <td>Action|Adventure|Fantasy|Sci-Fi</td>\n",
              "      <td>7.9</td>\n",
              "      <td>237000000</td>\n",
              "      <td>760505847</td>\n",
              "      <td>2.208885</td>\n",
              "      <td>HIT</td>\n",
              "    </tr>\n",
              "    <tr>\n",
              "      <th>1</th>\n",
              "      <td>2</td>\n",
              "      <td>Pirates of the Caribbean: At World's End</td>\n",
              "      <td>Gore Verbinski</td>\n",
              "      <td>Johnny Depp</td>\n",
              "      <td>Orlando Bloom</td>\n",
              "      <td>Jack Davenport</td>\n",
              "      <td>Action|Adventure|Fantasy</td>\n",
              "      <td>7.1</td>\n",
              "      <td>300000000</td>\n",
              "      <td>309404152</td>\n",
              "      <td>0.031347</td>\n",
              "      <td>HIT</td>\n",
              "    </tr>\n",
              "    <tr>\n",
              "      <th>2</th>\n",
              "      <td>3</td>\n",
              "      <td>Spectre</td>\n",
              "      <td>Sam Mendes</td>\n",
              "      <td>Christoph Waltz</td>\n",
              "      <td>Rory Kinnear</td>\n",
              "      <td>Stephanie Sigman</td>\n",
              "      <td>Action|Adventure|Thriller</td>\n",
              "      <td>6.8</td>\n",
              "      <td>245000000</td>\n",
              "      <td>200074175</td>\n",
              "      <td>-0.183371</td>\n",
              "      <td>FLOP</td>\n",
              "    </tr>\n",
              "    <tr>\n",
              "      <th>3</th>\n",
              "      <td>4</td>\n",
              "      <td>The Dark Knight Rises</td>\n",
              "      <td>Christopher Nolan</td>\n",
              "      <td>Tom Hardy</td>\n",
              "      <td>Christian Bale</td>\n",
              "      <td>Joseph Gordon-Levitt</td>\n",
              "      <td>Action|Thriller</td>\n",
              "      <td>8.5</td>\n",
              "      <td>250000000</td>\n",
              "      <td>448130642</td>\n",
              "      <td>0.792523</td>\n",
              "      <td>HIT</td>\n",
              "    </tr>\n",
              "    <tr>\n",
              "      <th>4</th>\n",
              "      <td>6</td>\n",
              "      <td>John Carter</td>\n",
              "      <td>Andrew Stanton</td>\n",
              "      <td>Daryl Sabara</td>\n",
              "      <td>Samantha Morton</td>\n",
              "      <td>Polly Walker</td>\n",
              "      <td>Action|Adventure|Sci-Fi</td>\n",
              "      <td>6.6</td>\n",
              "      <td>263700000</td>\n",
              "      <td>73058679</td>\n",
              "      <td>-0.722948</td>\n",
              "      <td>FLOP</td>\n",
              "    </tr>\n",
              "    <tr>\n",
              "      <th>...</th>\n",
              "      <td>...</td>\n",
              "      <td>...</td>\n",
              "      <td>...</td>\n",
              "      <td>...</td>\n",
              "      <td>...</td>\n",
              "      <td>...</td>\n",
              "      <td>...</td>\n",
              "      <td>...</td>\n",
              "      <td>...</td>\n",
              "      <td>...</td>\n",
              "      <td>...</td>\n",
              "      <td>...</td>\n",
              "    </tr>\n",
              "    <tr>\n",
              "      <th>3883</th>\n",
              "      <td>5033</td>\n",
              "      <td>Primer</td>\n",
              "      <td>Shane Carruth</td>\n",
              "      <td>Shane Carruth</td>\n",
              "      <td>David Sullivan</td>\n",
              "      <td>Casey Gooden</td>\n",
              "      <td>Drama|Sci-Fi|Thriller</td>\n",
              "      <td>7.0</td>\n",
              "      <td>7000</td>\n",
              "      <td>424760</td>\n",
              "      <td>59.680000</td>\n",
              "      <td>HIT</td>\n",
              "    </tr>\n",
              "    <tr>\n",
              "      <th>3884</th>\n",
              "      <td>5034</td>\n",
              "      <td>Cavite</td>\n",
              "      <td>Neill Dela Llana</td>\n",
              "      <td>Ian Gamazon</td>\n",
              "      <td>Edgar Tancangco</td>\n",
              "      <td>Quynn Ton</td>\n",
              "      <td>Thriller</td>\n",
              "      <td>6.3</td>\n",
              "      <td>7000</td>\n",
              "      <td>70071</td>\n",
              "      <td>9.010143</td>\n",
              "      <td>HIT</td>\n",
              "    </tr>\n",
              "    <tr>\n",
              "      <th>3885</th>\n",
              "      <td>5035</td>\n",
              "      <td>El Mariachi</td>\n",
              "      <td>Robert Rodriguez</td>\n",
              "      <td>Carlos Gallardo</td>\n",
              "      <td>Peter Marquardt</td>\n",
              "      <td>Consuelo Gómez</td>\n",
              "      <td>Action|Crime|Drama|Romance|Thriller</td>\n",
              "      <td>6.9</td>\n",
              "      <td>7000</td>\n",
              "      <td>2040920</td>\n",
              "      <td>290.560000</td>\n",
              "      <td>HIT</td>\n",
              "    </tr>\n",
              "    <tr>\n",
              "      <th>3886</th>\n",
              "      <td>5037</td>\n",
              "      <td>Newlyweds</td>\n",
              "      <td>Edward Burns</td>\n",
              "      <td>Kerry Bishé</td>\n",
              "      <td>Caitlin FitzGerald</td>\n",
              "      <td>Daniella Pineda</td>\n",
              "      <td>Comedy|Drama</td>\n",
              "      <td>6.4</td>\n",
              "      <td>9000</td>\n",
              "      <td>4584</td>\n",
              "      <td>-0.490667</td>\n",
              "      <td>FLOP</td>\n",
              "    </tr>\n",
              "    <tr>\n",
              "      <th>3887</th>\n",
              "      <td>5042</td>\n",
              "      <td>My Date with Drew</td>\n",
              "      <td>Jon Gunn</td>\n",
              "      <td>John August</td>\n",
              "      <td>Brian Herzlinger</td>\n",
              "      <td>Jon Gunn</td>\n",
              "      <td>Documentary</td>\n",
              "      <td>6.6</td>\n",
              "      <td>1100</td>\n",
              "      <td>85222</td>\n",
              "      <td>76.474545</td>\n",
              "      <td>HIT</td>\n",
              "    </tr>\n",
              "  </tbody>\n",
              "</table>\n",
              "<p>3888 rows × 12 columns</p>\n",
              "</div>"
            ],
            "text/plain": [
              "        Sn                               movie_title      director_name  \\\n",
              "0        1                                    Avatar      James Cameron   \n",
              "1        2  Pirates of the Caribbean: At World's End     Gore Verbinski   \n",
              "2        3                                   Spectre         Sam Mendes   \n",
              "3        4                     The Dark Knight Rises  Christopher Nolan   \n",
              "4        6                               John Carter     Andrew Stanton   \n",
              "...    ...                                       ...                ...   \n",
              "3883  5033                                    Primer      Shane Carruth   \n",
              "3884  5034                                    Cavite   Neill Dela Llana   \n",
              "3885  5035                               El Mariachi   Robert Rodriguez   \n",
              "3886  5037                                 Newlyweds       Edward Burns   \n",
              "3887  5042                         My Date with Drew           Jon Gunn   \n",
              "\n",
              "         actor_1_name        actor_2_name          actor_3_name  \\\n",
              "0         CCH Pounder    Joel David Moore             Wes Studi   \n",
              "1         Johnny Depp       Orlando Bloom        Jack Davenport   \n",
              "2     Christoph Waltz        Rory Kinnear      Stephanie Sigman   \n",
              "3           Tom Hardy      Christian Bale  Joseph Gordon-Levitt   \n",
              "4        Daryl Sabara     Samantha Morton          Polly Walker   \n",
              "...               ...                 ...                   ...   \n",
              "3883    Shane Carruth      David Sullivan          Casey Gooden   \n",
              "3884      Ian Gamazon     Edgar Tancangco             Quynn Ton   \n",
              "3885  Carlos Gallardo     Peter Marquardt        Consuelo Gómez   \n",
              "3886      Kerry Bishé  Caitlin FitzGerald       Daniella Pineda   \n",
              "3887      John August    Brian Herzlinger              Jon Gunn   \n",
              "\n",
              "                                   genres  imdb_score     budget      gross  \\\n",
              "0         Action|Adventure|Fantasy|Sci-Fi         7.9  237000000  760505847   \n",
              "1                Action|Adventure|Fantasy         7.1  300000000  309404152   \n",
              "2               Action|Adventure|Thriller         6.8  245000000  200074175   \n",
              "3                         Action|Thriller         8.5  250000000  448130642   \n",
              "4                 Action|Adventure|Sci-Fi         6.6  263700000   73058679   \n",
              "...                                   ...         ...        ...        ...   \n",
              "3883                Drama|Sci-Fi|Thriller         7.0       7000     424760   \n",
              "3884                             Thriller         6.3       7000      70071   \n",
              "3885  Action|Crime|Drama|Romance|Thriller         6.9       7000    2040920   \n",
              "3886                         Comedy|Drama         6.4       9000       4584   \n",
              "3887                          Documentary         6.6       1100      85222   \n",
              "\n",
              "      profit_percent Hit/Flop  \n",
              "0           2.208885      HIT  \n",
              "1           0.031347      HIT  \n",
              "2          -0.183371     FLOP  \n",
              "3           0.792523      HIT  \n",
              "4          -0.722948     FLOP  \n",
              "...              ...      ...  \n",
              "3883       59.680000      HIT  \n",
              "3884        9.010143      HIT  \n",
              "3885      290.560000      HIT  \n",
              "3886       -0.490667     FLOP  \n",
              "3887       76.474545      HIT  \n",
              "\n",
              "[3888 rows x 12 columns]"
            ]
          },
          "execution_count": 2,
          "metadata": {},
          "output_type": "execute_result"
        }
      ],
      "source": [
        "dataset = pd.read_csv('datasetfinal.csv')\n",
        "dataset"
      ]
    },
    {
      "cell_type": "markdown",
      "metadata": {},
      "source": [
        "## Spliting of the dataset into X(independent variable) and y(dependent variable)"
      ]
    },
    {
      "cell_type": "code",
      "execution_count": 3,
      "metadata": {
        "id": "mLtQYA0NAgER"
      },
      "outputs": [],
      "source": [
        "X = dataset.iloc[:, :-1].values\n",
        "y = dataset.iloc[:, 11].values"
      ]
    },
    {
      "cell_type": "markdown",
      "metadata": {},
      "source": [
        "## Encoding categorical data\n",
        "## Encoding the independent data"
      ]
    },
    {
      "cell_type": "code",
      "execution_count": 4,
      "metadata": {
        "id": "SygHwqsyA3ts"
      },
      "outputs": [],
      "source": [
        "from sklearn.preprocessing import LabelEncoder, OneHotEncoder\n",
        "number = LabelEncoder()\n",
        "nameencoder = LabelEncoder()\n",
        "actor1encoder = LabelEncoder()\n",
        "actor2encoder = LabelEncoder()\n",
        "actor3encoder = LabelEncoder()\n",
        "genresencoder = LabelEncoder()\n",
        "imdbscoreencoder = LabelEncoder()\n",
        "budgetencoder = LabelEncoder()\n",
        "grossencoder = LabelEncoder()\n",
        "profitencoder = LabelEncoder()"
      ]
    },
    {
      "cell_type": "markdown",
      "metadata": {},
      "source": [
        "# Encoding each categorical features"
      ]
    },
    {
      "cell_type": "code",
      "execution_count": 5,
      "metadata": {
        "id": "LL0OzjknB_3n"
      },
      "outputs": [],
      "source": [
        "dataset['director_name'] = nameencoder.fit_transform(dataset['director_name'])\n",
        "dataset['actor_1_name'] = actor1encoder.fit_transform(dataset['actor_1_name'])\n",
        "dataset['actor_2_name'] = actor2encoder.fit_transform(dataset['actor_2_name'].astype(str))\n",
        "dataset['actor_3_name'] = actor3encoder.fit_transform(dataset['actor_3_name'].astype(str))\n",
        "dataset['genres'] = genresencoder.fit_transform(dataset['genres'])\n",
        "\n",
        "features = [\"director_name\", \"actor_1_name\", \"genres\", \"imdb_score\", \"budget\", \"gross\", \"profit_percent\"]\n"
      ]
    },
    {
      "cell_type": "markdown",
      "metadata": {},
      "source": [
        "# Encoding the Dependent variable"
      ]
    },
    {
      "cell_type": "code",
      "execution_count": 6,
      "metadata": {
        "id": "VmVP1aEYDIMv"
      },
      "outputs": [],
      "source": [
        "labelencoder_y = LabelEncoder()\n",
        "y = labelencoder_y.fit_transform(y)"
      ]
    },
    {
      "cell_type": "markdown",
      "metadata": {},
      "source": [
        "# Spliting the dataset into the Training set and Test set"
      ]
    },
    {
      "cell_type": "code",
      "execution_count": 7,
      "metadata": {
        "id": "n2-Ig2YbDf0o"
      },
      "outputs": [],
      "source": [
        "from sklearn.model_selection import train_test_split\n",
        "X_train, X_test, y_train, y_test = train_test_split(dataset[features], y, test_size = 0.2, random_state = 0)"
      ]
    },
    {
      "cell_type": "markdown",
      "metadata": {},
      "source": [
        "# Scaling the data"
      ]
    },
    {
      "cell_type": "code",
      "execution_count": 8,
      "metadata": {
        "id": "lM0Tz4a7HZi2"
      },
      "outputs": [],
      "source": [
        "from sklearn.preprocessing import StandardScaler\n",
        "scaler = StandardScaler()\n",
        "X_train = scaler.fit_transform(X_train)\n",
        "X_test = scaler.transform(X_test)"
      ]
    },
    {
      "cell_type": "markdown",
      "metadata": {},
      "source": [
        "# Create a Gaussian Classifier"
      ]
    },
    {
      "cell_type": "code",
      "execution_count": 9,
      "metadata": {
        "id": "yKuTqQsLHt6j"
      },
      "outputs": [],
      "source": [
        "model = GaussianNB()"
      ]
    },
    {
      "cell_type": "markdown",
      "metadata": {},
      "source": [
        "# Train the model using the training sets"
      ]
    },
    {
      "cell_type": "code",
      "execution_count": 10,
      "metadata": {
        "colab": {
          "base_uri": "https://localhost:8080/"
        },
        "id": "pEvPba4qHxNj",
        "outputId": "0917f6d2-3e2e-456c-9285-e5d88f9fddee"
      },
      "outputs": [
        {
          "data": {
            "text/plain": [
              "GaussianNB()"
            ]
          },
          "execution_count": 10,
          "metadata": {},
          "output_type": "execute_result"
        }
      ],
      "source": [
        "model.fit(X_train, y_train)"
      ]
    },
    {
      "cell_type": "markdown",
      "metadata": {},
      "source": [
        "# Predict values using the testing set"
      ]
    },
    {
      "cell_type": "code",
      "execution_count": 11,
      "metadata": {
        "id": "ZviznwiqH6yY"
      },
      "outputs": [],
      "source": [
        "nb_predict_train = model.predict(X_test)"
      ]
    },
    {
      "cell_type": "markdown",
      "metadata": {},
      "source": [
        "# Import the performance metrics"
      ]
    },
    {
      "cell_type": "code",
      "execution_count": 12,
      "metadata": {
        "id": "eb5DvXJsIDYW"
      },
      "outputs": [],
      "source": [
        "from sklearn import metrics"
      ]
    },
    {
      "cell_type": "markdown",
      "metadata": {},
      "source": [
        "# Predict Output"
      ]
    },
    {
      "cell_type": "code",
      "execution_count": 13,
      "metadata": {
        "colab": {
          "base_uri": "https://localhost:8080/"
        },
        "id": "B1bW0jAoIRwo",
        "outputId": "ddc47f29-cadb-45c3-aab1-f60a1a1c5eb9"
      },
      "outputs": [
        {
          "ename": "ValueError",
          "evalue": "could not convert string to float: ''",
          "output_type": "error",
          "traceback": [
            "\u001b[1;31m---------------------------------------------------------------------------\u001b[0m",
            "\u001b[1;31mValueError\u001b[0m                                Traceback (most recent call last)",
            "\u001b[1;32m~\\AppData\\Local\\Temp/ipykernel_22448/2421967954.py\u001b[0m in \u001b[0;36m<module>\u001b[1;34m\u001b[0m\n\u001b[0;32m      2\u001b[0m \u001b[0mdirector_name\u001b[0m\u001b[1;33m=\u001b[0m \u001b[0minput\u001b[0m\u001b[1;33m(\u001b[0m\u001b[1;34m\"Actor Name           : \"\u001b[0m\u001b[1;33m)\u001b[0m\u001b[1;33m\u001b[0m\u001b[1;33m\u001b[0m\u001b[0m\n\u001b[0;32m      3\u001b[0m \u001b[0mgenre\u001b[0m\u001b[1;33m=\u001b[0m \u001b[0minput\u001b[0m\u001b[1;33m(\u001b[0m\u001b[1;34m\"Genre                : \"\u001b[0m\u001b[1;33m)\u001b[0m\u001b[1;33m\u001b[0m\u001b[1;33m\u001b[0m\u001b[0m\n\u001b[1;32m----> 4\u001b[1;33m \u001b[0mimdb_rating\u001b[0m\u001b[1;33m=\u001b[0m \u001b[0mfloat\u001b[0m\u001b[1;33m(\u001b[0m\u001b[0minput\u001b[0m\u001b[1;33m(\u001b[0m\u001b[1;34m\"IMDB Rating          : \"\u001b[0m\u001b[1;33m)\u001b[0m\u001b[1;33m)\u001b[0m\u001b[1;33m\u001b[0m\u001b[1;33m\u001b[0m\u001b[0m\n\u001b[0m\u001b[0;32m      5\u001b[0m \u001b[0mbudget\u001b[0m\u001b[1;33m=\u001b[0m \u001b[0mfloat\u001b[0m\u001b[1;33m(\u001b[0m\u001b[0minput\u001b[0m\u001b[1;33m(\u001b[0m\u001b[1;34m\"Budget               : \"\u001b[0m\u001b[1;33m)\u001b[0m\u001b[1;33m)\u001b[0m\u001b[1;33m\u001b[0m\u001b[1;33m\u001b[0m\u001b[0m\n\u001b[0;32m      6\u001b[0m \u001b[0mgross\u001b[0m\u001b[1;33m=\u001b[0m \u001b[0mfloat\u001b[0m\u001b[1;33m(\u001b[0m\u001b[0minput\u001b[0m\u001b[1;33m(\u001b[0m\u001b[1;34m\"Gross                : \"\u001b[0m\u001b[1;33m)\u001b[0m\u001b[1;33m)\u001b[0m\u001b[1;33m\u001b[0m\u001b[1;33m\u001b[0m\u001b[0m\n",
            "\u001b[1;31mValueError\u001b[0m: could not convert string to float: ''"
          ]
        }
      ],
      "source": [
        "\n",
        "actor_name= input(\"Director Name        : \")\n",
        "director_name= input(\"Actor Name           : \")\n",
        "genre= input(\"Genre                : \")\n",
        "imdb_rating= float(input(\"IMDB Rating          : \"))\n",
        "budget= float(input(\"Budget               : \"))\n",
        "gross= float(input(\"Gross                : \"))\n",
        "profit_percent= float(input(\"Profit Percentage   : \"))\n",
        "# predict=[\"James Cameron\",\"CCH Pounder\",\"Action|Adventure|Fantasy|Sci-Fi\",7.9,237000000, 760505847, 0.031347]\n",
        "# predict=[\"Sam Mendes\",\"Christoph Waltz\",\"Action|Adventure|Thriller\",6.8,245000000,200074175,-0.183370714]\n",
        "# predict=[\"Andrew Stanton\",\"Daryl Sabara\", \"Action|Adventure|Sci-Fi\",6.6,263700000,73058679,-0.722947747]\n",
        "# predict=[\"James Cameron\",\"Daryl Sabara\",\"Action|Adventure|Thriller\",5.5,26589565,584565,0.032]\n",
        "\n",
        "predict=[actor_name,director_name,genre,imdb_rating,budget,gross,profit_percent]"
      ]
    },
    {
      "cell_type": "code",
      "execution_count": null,
      "metadata": {
        "colab": {
          "base_uri": "https://localhost:8080/",
          "height": 484
        },
        "id": "77CNKQalJR5s",
        "outputId": "d93caf02-7b6f-43f1-dd8b-396965931faf"
      },
      "outputs": [],
      "source": [
        "predict[0] = nameencoder.transform([predict[0]])\n",
        "predict[1] = actor1encoder.transform([predict[1]])\n",
        "predict[2] = genresencoder.transform([predict[2]])\n"
      ]
    },
    {
      "cell_type": "markdown",
      "metadata": {},
      "source": [
        "# Scale or normalize the data"
      ]
    },
    {
      "cell_type": "code",
      "execution_count": null,
      "metadata": {},
      "outputs": [
        {
          "name": "stderr",
          "output_type": "stream",
          "text": [
            "C:\\Users\\Rahil\\AppData\\Local\\Packages\\PythonSoftwareFoundation.Python.3.9_qbz5n2kfra8p0\\LocalCache\\local-packages\\Python39\\site-packages\\sklearn\\base.py:450: UserWarning: X does not have valid feature names, but StandardScaler was fitted with feature names\n",
            "  warnings.warn(\n",
            "<__array_function__ internals>:5: VisibleDeprecationWarning: Creating an ndarray from ragged nested sequences (which is a list-or-tuple of lists-or-tuples-or ndarrays with different lengths or shapes) is deprecated. If you meant to do this, you must specify 'dtype=object' when creating the ndarray.\n"
          ]
        }
      ],
      "source": [
        "predict = scaler.transform([predict])\n",
        "prediction = model.predict(predict)"
      ]
    },
    {
      "cell_type": "markdown",
      "metadata": {},
      "source": [
        "# Accuracy Score"
      ]
    },
    {
      "cell_type": "code",
      "execution_count": null,
      "metadata": {},
      "outputs": [
        {
          "name": "stdout",
          "output_type": "stream",
          "text": [
            "FLOP\n",
            "ACCURACY: 0.8985\n",
            "\n"
          ]
        }
      ],
      "source": [
        "if prediction == 1:\n",
        "    print(\"HIT\")\n",
        "else:\n",
        "    print(\"FLOP\")\n",
        "    \n",
        "          \n",
        "# Accuracy\n",
        "print(\"ACCURACY: {0:.4f}\".format(metrics.accuracy_score(y_test, nb_predict_train)))\n",
        "print()  "
      ]
    }
  ],
  "metadata": {
    "colab": {
      "name": "Movie-success-prediction-DM-project.ipynb",
      "provenance": []
    },
    "kernelspec": {
      "display_name": "Python 3",
      "name": "python3"
    },
    "language_info": {
      "codemirror_mode": {
        "name": "ipython",
        "version": 3
      },
      "file_extension": ".py",
      "mimetype": "text/x-python",
      "name": "python",
      "nbconvert_exporter": "python",
      "pygments_lexer": "ipython3",
      "version": "3.9.12"
    }
  },
  "nbformat": 4,
  "nbformat_minor": 0
}
